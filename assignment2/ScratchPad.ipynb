{
 "cells": [
  {
   "cell_type": "code",
   "execution_count": 72,
   "metadata": {
    "collapsed": false
   },
   "outputs": [],
   "source": [
    "import numpy as np"
   ]
  },
  {
   "cell_type": "code",
   "execution_count": 73,
   "metadata": {
    "collapsed": true
   },
   "outputs": [],
   "source": [
    "x = np.random.random((5,5))"
   ]
  },
  {
   "cell_type": "code",
   "execution_count": 74,
   "metadata": {
    "collapsed": false
   },
   "outputs": [
    {
     "name": "stdout",
     "output_type": "stream",
     "text": [
      "[[ 0.29644828  0.83034798  0.65109818  0.93916215  0.35763547]\n",
      " [ 0.23920744  0.32780305  0.07036492  0.12180972  0.5984803 ]\n",
      " [ 0.06660388  0.80362676  0.20993676  0.95551542  0.36342028]\n",
      " [ 0.66033918  0.28771308  0.46057647  0.98165272  0.60108776]\n",
      " [ 0.19503242  0.11069177  0.41422103  0.58119139  0.24639779]]\n"
     ]
    }
   ],
   "source": [
    "print x"
   ]
  },
  {
   "cell_type": "code",
   "execution_count": 75,
   "metadata": {
    "collapsed": true
   },
   "outputs": [],
   "source": [
    "t = x[0:0+2*2:2,:]"
   ]
  },
  {
   "cell_type": "code",
   "execution_count": 76,
   "metadata": {
    "collapsed": false
   },
   "outputs": [
    {
     "name": "stdout",
     "output_type": "stream",
     "text": [
      "[[ 0.29644828  0.83034798  0.65109818  0.93916215  0.35763547]\n",
      " [ 0.06660388  0.80362676  0.20993676  0.95551542  0.36342028]]\n"
     ]
    }
   ],
   "source": [
    "print t"
   ]
  },
  {
   "cell_type": "code",
   "execution_count": 77,
   "metadata": {
    "collapsed": false
   },
   "outputs": [
    {
     "name": "stdout",
     "output_type": "stream",
     "text": [
      "[[ 0.29644828  0.83034798  0.65109818  0.93916215  0.35763547]\n",
      " [ 0.23920744  0.32780305  0.07036492  0.12180972  0.5984803 ]\n",
      " [ 0.06660388  0.80362676  0.20993676  0.95551542  0.36342028]\n",
      " [ 0.66033918  0.28771308  0.46057647  0.98165272  0.60108776]]\n"
     ]
    }
   ],
   "source": [
    "u = x[0:4,:]\n",
    "print u"
   ]
  },
  {
   "cell_type": "code",
   "execution_count": null,
   "metadata": {
    "collapsed": true
   },
   "outputs": [],
   "source": []
  }
 ],
 "metadata": {
  "anaconda-cloud": {},
  "kernelspec": {
   "display_name": "Python [default]",
   "language": "python",
   "name": "python2"
  },
  "language_info": {
   "codemirror_mode": {
    "name": "ipython",
    "version": 2
   },
   "file_extension": ".py",
   "mimetype": "text/x-python",
   "name": "python",
   "nbconvert_exporter": "python",
   "pygments_lexer": "ipython2",
   "version": "2.7.12"
  }
 },
 "nbformat": 4,
 "nbformat_minor": 1
}
