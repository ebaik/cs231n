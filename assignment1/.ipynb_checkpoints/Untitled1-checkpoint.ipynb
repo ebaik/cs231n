{
 "cells": [
  {
   "cell_type": "code",
   "execution_count": 29,
   "metadata": {
    "collapsed": false
   },
   "outputs": [],
   "source": [
    "import numpy as np\n",
    "import random\n",
    "DW = np.zeros((4,3,3))"
   ]
  },
  {
   "cell_type": "code",
   "execution_count": 30,
   "metadata": {
    "collapsed": false
   },
   "outputs": [
    {
     "name": "stdout",
     "output_type": "stream",
     "text": [
      "DW =  [[[ 0.  0.  0.]\n",
      "  [ 0.  0.  0.]\n",
      "  [ 0.  0.  0.]]\n",
      "\n",
      " [[ 0.  0.  0.]\n",
      "  [ 0.  0.  0.]\n",
      "  [ 0.  0.  0.]]\n",
      "\n",
      " [[ 0.  0.  0.]\n",
      "  [ 0.  0.  0.]\n",
      "  [ 0.  0.  0.]]\n",
      "\n",
      " [[ 0.  0.  0.]\n",
      "  [ 0.  0.  0.]\n",
      "  [ 0.  0.  0.]]]\n",
      "y =  [0 1 0]\n"
     ]
    }
   ],
   "source": [
    "print \"DW = \", DW\n",
    "A = np.random.random((4,3))\n",
    "y = np.array([0, 1, 0, 0])\n",
    "print \"y = \", y"
   ]
  },
  {
   "cell_type": "code",
   "execution_count": 31,
   "metadata": {
    "collapsed": false
   },
   "outputs": [
    {
     "name": "stdout",
     "output_type": "stream",
     "text": [
      "[[[ 0.0889904 ]\n",
      "  [ 0.64424309]\n",
      "  [ 0.49295559]]\n",
      "\n",
      " [[ 0.11101765]\n",
      "  [ 0.31037654]\n",
      "  [ 0.46315099]]\n",
      "\n",
      " [[ 0.1390736 ]\n",
      "  [ 0.1024438 ]\n",
      "  [ 0.41952399]]\n",
      "\n",
      " [[ 0.78174328]\n",
      "  [ 0.40302358]\n",
      "  [ 0.78778958]]] (4, 3, 1)\n",
      "[[[ 0.0889904   0.0889904   0.        ]\n",
      "  [ 0.64424309  0.64424309  0.        ]\n",
      "  [ 0.49295559  0.49295559  0.        ]]\n",
      "\n",
      " [[ 0.11101765  0.11101765  0.        ]\n",
      "  [ 0.31037654  0.31037654  0.        ]\n",
      "  [ 0.46315099  0.46315099  0.        ]]\n",
      "\n",
      " [[ 0.1390736   0.1390736   0.        ]\n",
      "  [ 0.1024438   0.1024438   0.        ]\n",
      "  [ 0.41952399  0.41952399  0.        ]]\n",
      "\n",
      " [[ 0.78174328  0.78174328  0.        ]\n",
      "  [ 0.40302358  0.40302358  0.        ]\n",
      "  [ 0.78778958  0.78778958  0.        ]]]\n"
     ]
    }
   ],
   "source": [
    "B=A[:,:,np.newaxis]\n",
    "print B, B.shape\n",
    "DW[:,:,y] = A[:,:,np.newaxis]\n",
    "print DW"
   ]
  },
  {
   "cell_type": "code",
   "execution_count": null,
   "metadata": {
    "collapsed": true
   },
   "outputs": [],
   "source": []
  }
 ],
 "metadata": {
  "kernelspec": {
   "display_name": "Python [default]",
   "language": "python",
   "name": "python2"
  },
  "language_info": {
   "codemirror_mode": {
    "name": "ipython",
    "version": 2
   },
   "file_extension": ".py",
   "mimetype": "text/x-python",
   "name": "python",
   "nbconvert_exporter": "python",
   "pygments_lexer": "ipython2",
   "version": "2.7.12"
  }
 },
 "nbformat": 4,
 "nbformat_minor": 1
}
